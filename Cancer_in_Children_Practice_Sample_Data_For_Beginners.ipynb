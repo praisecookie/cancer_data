{
  "nbformat": 4,
  "nbformat_minor": 0,
  "metadata": {
    "colab": {
      "provenance": [],
      "authorship_tag": "ABX9TyP24k2+tJRkavN4MIPMIgp3"
    },
    "kernelspec": {
      "name": "python3",
      "display_name": "Python 3"
    },
    "language_info": {
      "name": "python"
    }
  },
  "cells": [
    {
      "cell_type": "code",
      "execution_count": 1,
      "metadata": {
        "id": "slSJcPn96Nfv"
      },
      "outputs": [],
      "source": [
        "import pandas as pd\n",
        "import numpy as np\n",
        "import random\n",
        "\n"
      ]
    },
    {
      "cell_type": "code",
      "source": [
        "# Define lists for categorical variables\n",
        "types = ['Leukemia', 'Lymphoma', 'Brain Tumor', 'Neuroblastoma', 'Wilms Tumor', 'Other']\n",
        "causes = ['Genetic', 'Environmental', 'Unknown', 'Other']\n",
        "parent_occupations = ['Teacher', 'Doctor', 'Farmer', 'Engineer', 'Other']\n",
        "continents = ['Africa', 'Europe', 'Asia']\n",
        "countries = ['Nigeria', 'South Africa', 'India', 'Japan', 'United Kingdom', 'USA', 'other']\n",
        "birthing_methods = ['Natural', 'Cesarean Section (CS)']\n",
        "parent_sickness = ['Cancer', 'Diabetes', 'Heart Disease', 'Other', 'None']\n",
        "\n"
      ],
      "metadata": {
        "id": "OBWS2jji6d6Q"
      },
      "execution_count": 2,
      "outputs": []
    },
    {
      "cell_type": "code",
      "source": [
        "# Generate random data\n",
        "data = {\n",
        "    'Patient ID': ['C' + str(i).zfill(3) for i in range(1, 4001)],  # Generate unique IDs\n",
        "    'Type': np.random.choice(types, 4000),\n",
        "    'Cause': np.random.choice(causes, 4000),\n",
        "    'Age': np.random.randint(0, 15, 4000),\n",
        "    'Gender': np.random.choice(['Male', 'Female'], 4000),\n",
        "    'Parent_Occupation': np.random.choice(parent_occupations, 4000),\n",
        "    'Polluted/Unpolluted_Area': np.random.choice(['Polluted', 'Unpolluted'], 4000),\n",
        "    'Rural/Urban': np.random.choice(['Rural', 'Urban'], 4000),\n",
        "    'Birthing_Method': np.random.choice(birthing_methods, 4000),\n",
        "    'Sick_Parent': np.random.choice(['Yes', 'No'], 4000, p=[0.2, 0.8]),  # 20% probability of sick parent\n",
        "    'Type_of_Parent_Sickness': np.random.choice(parent_sickness, 4000),\n",
        "    'Continent': np.random.choice(continents, 4000),\n",
        "    'Country': np.random.choice(countries, 4000)\n",
        "}\n",
        "\n"
      ],
      "metadata": {
        "id": "leKoDwZS6l7l"
      },
      "execution_count": 3,
      "outputs": []
    },
    {
      "cell_type": "code",
      "source": [
        "# Create a pandas DataFrame\n",
        "df = pd.DataFrame(data)\n",
        "\n"
      ],
      "metadata": {
        "id": "W4WZEWZy7N0B"
      },
      "execution_count": 4,
      "outputs": []
    },
    {
      "cell_type": "code",
      "source": [
        "# Save the DataFrame to a CSV file\n",
        "df.to_csv('childhood_cancer_data.csv', index=False)\n"
      ],
      "metadata": {
        "id": "SVawcPzR7V9L"
      },
      "execution_count": 5,
      "outputs": []
    },
    {
      "cell_type": "code",
      "source": [
        "# File paths\n",
        "excel_file = \"*.csv\"\n",
        "csv_file = \"childhood_cancer_data.csv\"\n",
        "output_file = \"updated_sample_cancer_data.xlsx\"\n",
        "\n"
      ],
      "metadata": {
        "id": "Mg0ymZJ57qhP"
      },
      "execution_count": 6,
      "outputs": []
    },
    {
      "cell_type": "code",
      "source": [
        "with open('.gitignore', 'a') as file:\n",
        "    file.write(\"*.csv\")  # Add your file or directory to ignore\n",
        "    file.write('data/\\n')  # Example: Ignore a directory\n"
      ],
      "metadata": {
        "id": "ntfOvYBfEfpt"
      },
      "execution_count": 11,
      "outputs": []
    },
    {
      "cell_type": "code",
      "source": [
        "with open('.gitignore', 'r') as file:\n",
        "    print(file.read())\n"
      ],
      "metadata": {
        "colab": {
          "base_uri": "https://localhost:8080/"
        },
        "id": "z1gwRp-nE686",
        "outputId": "c5d1e8ff-006c-463d-accc-736776c5bad3"
      },
      "execution_count": 12,
      "outputs": [
        {
          "output_type": "stream",
          "name": "stdout",
          "text": [
            "*.csvdata/\n",
            "\n"
          ]
        }
      ]
    },
    {
      "cell_type": "code",
      "source": [
        "# Read the existing Excel file\n",
        "try:\n",
        "    df_excel = pd.read_excel(excel_file)\n",
        "except FileNotFoundError:\n",
        "    df_excel = pd.DataFrame()  # If the Excel file doesn't exist, start with an empty DataFrame\n",
        "\n"
      ],
      "metadata": {
        "id": "t308iUYO9VuU"
      },
      "execution_count": 15,
      "outputs": []
    },
    {
      "cell_type": "code",
      "source": [
        "# Read the CSV file\n",
        "df_csv = pd.read_csv(csv_file)\n",
        "\n"
      ],
      "metadata": {
        "id": "-VKEIl0R995g"
      },
      "execution_count": 16,
      "outputs": []
    },
    {
      "cell_type": "code",
      "source": [
        "# Append the CSV data to the Excel data\n",
        "combined_df = pd.concat([df_excel, df_csv], ignore_index=True)\n",
        "\n"
      ],
      "metadata": {
        "id": "ncKtlXei-BXL"
      },
      "execution_count": 17,
      "outputs": []
    },
    {
      "cell_type": "code",
      "source": [
        "# Write the combined data back to an Excel file\n",
        "combined_df.to_excel(output_file, index=False)\n",
        "\n",
        "print(f\"Data successfully appended and saved to {output_file}\")"
      ],
      "metadata": {
        "colab": {
          "base_uri": "https://localhost:8080/"
        },
        "id": "RUe5eIA--ENO",
        "outputId": "15ab10d2-98a2-45a3-938f-306e4421176e"
      },
      "execution_count": 18,
      "outputs": [
        {
          "output_type": "stream",
          "name": "stdout",
          "text": [
            "Data successfully appended and saved to updated_sample_cancer_data.xlsx\n"
          ]
        }
      ]
    }
  ]
}
