{
  "nbformat": 4,
  "nbformat_minor": 0,
  "metadata": {
    "colab": {
      "provenance": [],
      "authorship_tag": "ABX9TyMA7qEa4NaN4J1FKqtKAs1O"
    },
    "kernelspec": {
      "name": "python3",
      "display_name": "Python 3"
    },
    "language_info": {
      "name": "python"
    }
  },
  "cells": [
    {
      "cell_type": "code",
      "execution_count": 2,
      "metadata": {
        "id": "xAlfVuHwHwNS"
      },
      "outputs": [],
      "source": [
        "import pandas as pd\n",
        "import numpy as np\n",
        "import random"
      ]
    },
    {
      "cell_type": "code",
      "source": [
        "#categorical variables\n",
        "\n",
        "types = ['Leukemia', 'Lymphoma', 'Brain Tumor', 'Neuroblastoma', 'Wilms Tumor', 'Other']\n",
        "causes = ['Genetic', 'Environmental', 'Unknown', 'Other']\n",
        "parent_occupations = ['Teacher', 'Doctor', 'Farmer', 'Engineer', 'Other']\n",
        "continents = ['Africa', 'Europe', 'Asia']\n",
        "countries = ['Nigeria', 'South Africa', 'India', 'Japan', 'United Kingdom', 'USA', 'other']\n",
        "birthing_methods = ['Natural', 'Cesarean Section (CS)']\n",
        "parent_sickness = ['Cancer', 'Diabetes', 'Heart Disease', 'Other', 'None']\n"
      ],
      "metadata": {
        "id": "PWliu9EYIBb1"
      },
      "execution_count": 3,
      "outputs": []
    },
    {
      "cell_type": "code",
      "source": [
        "#random data\n",
        "data = {\n",
        "    'Patient ID': ['C' + str(i).zfill(3) for i in range(1, 8001)],  # Generate unique IDs\n",
        "    'Type': np.random.choice(types, 8000),\n",
        "    'Cause': np.random.choice(causes, 8000),\n",
        "    'Age': np.random.randint(0, 15, 8000),\n",
        "    'Gender': np.random.choice(['Male', 'Female'], 8000),\n",
        "    'Parent_Occupation': np.random.choice(parent_occupations, 8000),\n",
        "    'Polluted/Unpolluted_Area': np.random.choice(['Polluted', 'Unpolluted'], 8000),\n",
        "    'Rural/Urban': np.random.choice(['Rural', 'Urban'], 8000),\n",
        "    'Birthing_Method': np.random.choice(birthing_methods, 8000),\n",
        "    'Sick_Parent': np.random.choice(['Yes', 'No'], 8000, p=[0.2, 0.8]),  # 20% probability of sick parent\n",
        "    'Type_of_Parent_Sickness': np.random.choice(parent_sickness, 8000),\n",
        "    'Continent': np.random.choice(continents, 8000),\n",
        "    'Country': np.random.choice(countries, 8000)\n",
        "\n",
        "}"
      ],
      "metadata": {
        "id": "QL1cs1dBIP0G"
      },
      "execution_count": 6,
      "outputs": []
    },
    {
      "cell_type": "code",
      "source": [
        "# DataFrame\n",
        "df = pd.DataFrame(data)\n"
      ],
      "metadata": {
        "id": "s2_Nw-OLIWmE"
      },
      "execution_count": 7,
      "outputs": []
    },
    {
      "cell_type": "code",
      "source": [
        "# DataFrame to a CSV file\n",
        "output_file = 'sample_childhood_cancer_data.csv'\n",
        "df.to_csv(output_file, index=False)\n",
        "\n",
        "print(f'dataset successfully created and saved to {output_file}')"
      ],
      "metadata": {
        "colab": {
          "base_uri": "https://localhost:8080/"
        },
        "id": "kLvPx1yvJHun",
        "outputId": "d3ea9d00-64bf-4870-8340-4e103ed37935"
      },
      "execution_count": 8,
      "outputs": [
        {
          "output_type": "stream",
          "name": "stdout",
          "text": [
            "dataset successfully created and saved to sample_childhood_cancer_data.csv\n"
          ]
        }
      ]
    }
  ]
}